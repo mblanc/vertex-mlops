{
 "cells": [
  {
   "cell_type": "code",
   "execution_count": 1,
   "id": "0a847faa-dfcb-4cd7-9db8-ac0af5e9d682",
   "metadata": {},
   "outputs": [],
   "source": [
    "from google.cloud import aiplatform as aip\n",
    "from google.protobuf.json_format import MessageToDict"
   ]
  },
  {
   "cell_type": "code",
   "execution_count": 2,
   "id": "5b9b9698-240f-4426-9835-cdfd6e3e4ff1",
   "metadata": {},
   "outputs": [],
   "source": [
    "PROJECT = \"svc-demo-vertex\"\n",
    "REGION = \"us-central1\"\n",
    "BQ_LOCATION = \"US\"\n",
    "BUCKET = \"gs://svc-demo-vertex-us/\""
   ]
  },
  {
   "cell_type": "code",
   "execution_count": 3,
   "id": "4f783125-002d-415a-aba4-fa0be4331c69",
   "metadata": {},
   "outputs": [],
   "source": [
    "aip.init(project=PROJECT, location=REGION, staging_bucket=BUCKET)"
   ]
  },
  {
   "cell_type": "code",
   "execution_count": 4,
   "id": "5edd5b74-d588-4f61-b4d5-430218a0a9d9",
   "metadata": {},
   "outputs": [],
   "source": [
    "from google.cloud import bigquery\n",
    "\n",
    "# Construct a BigQuery client object.\n",
    "client = bigquery.Client(project=PROJECT, location=BQ_LOCATION)"
   ]
  },
  {
   "cell_type": "code",
   "execution_count": 6,
   "id": "bee5d5b2-401a-492d-a3b5-f66982e4bdab",
   "metadata": {},
   "outputs": [
    {
     "data": {
      "text/plain": [
       "LoadJob<project=svc-demo-vertex, location=US, id=cc903b51-bac4-4d3b-8e72-4588e63814fb>"
      ]
     },
     "execution_count": 6,
     "metadata": {},
     "output_type": "execute_result"
    }
   ],
   "source": [
    "job_config = bigquery.LoadJobConfig(\n",
    "    schema=[\n",
    "        bigquery.SchemaField(\"Sex\", \"STRING\"),\n",
    "        bigquery.SchemaField(\"Length\", \"NUMERIC\"),\n",
    "        bigquery.SchemaField(\"Diameter\", \"NUMERIC\"),\n",
    "        bigquery.SchemaField(\"Height\", \"NUMERIC\"),\n",
    "        bigquery.SchemaField(\"Whole_weight\", \"NUMERIC\"),\n",
    "        bigquery.SchemaField(\"Shucked_weight\", \"NUMERIC\"),\n",
    "        bigquery.SchemaField(\"Viscera_weight\", \"NUMERIC\"),\n",
    "        bigquery.SchemaField(\"Shell_weight\", \"NUMERIC\"),\n",
    "        bigquery.SchemaField(\"Rings\", \"NUMERIC\"),\n",
    "    ],\n",
    "    skip_leading_rows=0,\n",
    "    # The source format defaults to CSV, so the line below is optional.\n",
    "    source_format=bigquery.SourceFormat.CSV,\n",
    ")\n",
    "\n",
    "load_job = client.load_table_from_uri(\n",
    "    \"gs://svc-demo-vertex-us/data/abalone/abalone.data\", \"pipeline_us.abalone\", job_config=job_config\n",
    ")  # Make an API request.\n",
    "\n",
    "load_job.result() "
   ]
  },
  {
   "cell_type": "code",
   "execution_count": null,
   "id": "cd94c0b0-5bcb-40ea-900f-1398ff5a1295",
   "metadata": {},
   "outputs": [],
   "source": []
  }
 ],
 "metadata": {
  "environment": {
   "kernel": "python3",
   "name": "tf2-gpu.2-8.m90",
   "type": "gcloud",
   "uri": "gcr.io/deeplearning-platform-release/tf2-gpu.2-8:m90"
  },
  "kernelspec": {
   "display_name": "Python 3 (ipykernel)",
   "language": "python",
   "name": "python3"
  },
  "language_info": {
   "codemirror_mode": {
    "name": "ipython",
    "version": 3
   },
   "file_extension": ".py",
   "mimetype": "text/x-python",
   "name": "python",
   "nbconvert_exporter": "python",
   "pygments_lexer": "ipython3",
   "version": "3.7.12"
  }
 },
 "nbformat": 4,
 "nbformat_minor": 5
}

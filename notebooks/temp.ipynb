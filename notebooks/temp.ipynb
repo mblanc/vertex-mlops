{
 "cells": [
  {
   "cell_type": "code",
   "execution_count": 9,
   "id": "0a847faa-dfcb-4cd7-9db8-ac0af5e9d682",
   "metadata": {},
   "outputs": [],
   "source": [
    "from google.cloud import aiplatform as aip\n",
    "from google.protobuf.json_format import MessageToDict"
   ]
  },
  {
   "cell_type": "code",
   "execution_count": 10,
   "id": "5b9b9698-240f-4426-9835-cdfd6e3e4ff1",
   "metadata": {},
   "outputs": [],
   "source": [
    "PROJECT = \"svc-demo-vertex\"\n",
    "# REGION = \"us-central1\"\n",
    "REGION = \"europe-west4\"\n",
    "BQ_LOCATION = \"US\"\n",
    "BUCKET = \"gs://svc-demo-vertex-us/\""
   ]
  },
  {
   "cell_type": "code",
   "execution_count": 11,
   "id": "4f783125-002d-415a-aba4-fa0be4331c69",
   "metadata": {},
   "outputs": [],
   "source": [
    "aip.init(project=PROJECT, location=REGION, staging_bucket=BUCKET)"
   ]
  },
  {
   "cell_type": "code",
   "execution_count": 4,
   "id": "5edd5b74-d588-4f61-b4d5-430218a0a9d9",
   "metadata": {},
   "outputs": [],
   "source": [
    "from google.cloud import bigquery\n",
    "\n",
    "# Construct a BigQuery client object.\n",
    "client = bigquery.Client(project=PROJECT, location=BQ_LOCATION)"
   ]
  },
  {
   "cell_type": "code",
   "execution_count": 6,
   "id": "bee5d5b2-401a-492d-a3b5-f66982e4bdab",
   "metadata": {},
   "outputs": [
    {
     "data": {
      "text/plain": [
       "LoadJob<project=svc-demo-vertex, location=US, id=cc903b51-bac4-4d3b-8e72-4588e63814fb>"
      ]
     },
     "execution_count": 6,
     "metadata": {},
     "output_type": "execute_result"
    }
   ],
   "source": [
    "job_config = bigquery.LoadJobConfig(\n",
    "    schema=[\n",
    "        bigquery.SchemaField(\"Sex\", \"STRING\"),\n",
    "        bigquery.SchemaField(\"Length\", \"NUMERIC\"),\n",
    "        bigquery.SchemaField(\"Diameter\", \"NUMERIC\"),\n",
    "        bigquery.SchemaField(\"Height\", \"NUMERIC\"),\n",
    "        bigquery.SchemaField(\"Whole_weight\", \"NUMERIC\"),\n",
    "        bigquery.SchemaField(\"Shucked_weight\", \"NUMERIC\"),\n",
    "        bigquery.SchemaField(\"Viscera_weight\", \"NUMERIC\"),\n",
    "        bigquery.SchemaField(\"Shell_weight\", \"NUMERIC\"),\n",
    "        bigquery.SchemaField(\"Rings\", \"NUMERIC\"),\n",
    "    ],\n",
    "    skip_leading_rows=0,\n",
    "    # The source format defaults to CSV, so the line below is optional.\n",
    "    source_format=bigquery.SourceFormat.CSV,\n",
    ")\n",
    "\n",
    "load_job = client.load_table_from_uri(\n",
    "    \"gs://svc-demo-vertex-us/data/abalone/abalone.data\", \"pipeline_us.abalone\", job_config=job_config\n",
    ")  # Make an API request.\n",
    "\n",
    "load_job.result() "
   ]
  },
  {
   "cell_type": "code",
   "execution_count": 12,
   "id": "cd94c0b0-5bcb-40ea-900f-1398ff5a1295",
   "metadata": {},
   "outputs": [],
   "source": [
    "dataset = aip.TimeSeriesDataset.list(filter=f'display_name=\"colvin\"', order_by=\"create_time\")[0]"
   ]
  },
  {
   "cell_type": "code",
   "execution_count": 13,
   "id": "ac4c0070-0076-41a1-8a1d-3d7582aa65fa",
   "metadata": {},
   "outputs": [
    {
     "data": {
      "text/plain": [
       "['_FutureManager__latest_future',\n",
       " '_FutureManager__latest_future_lock',\n",
       " '__abstractmethods__',\n",
       " '__annotations__',\n",
       " '__class__',\n",
       " '__delattr__',\n",
       " '__dict__',\n",
       " '__dir__',\n",
       " '__doc__',\n",
       " '__eq__',\n",
       " '__format__',\n",
       " '__ge__',\n",
       " '__getattribute__',\n",
       " '__gt__',\n",
       " '__hash__',\n",
       " '__init__',\n",
       " '__init_subclass__',\n",
       " '__le__',\n",
       " '__lt__',\n",
       " '__module__',\n",
       " '__ne__',\n",
       " '__new__',\n",
       " '__reduce__',\n",
       " '__reduce_ex__',\n",
       " '__repr__',\n",
       " '__setattr__',\n",
       " '__sizeof__',\n",
       " '__str__',\n",
       " '__subclasshook__',\n",
       " '__weakref__',\n",
       " '_abc_impl',\n",
       " '_are_futures_done',\n",
       " '_assert_gca_resource_is_available',\n",
       " '_complete_future',\n",
       " '_construct_sdk_resource_from_gapic',\n",
       " '_create',\n",
       " '_create_and_import',\n",
       " '_delete_method',\n",
       " '_empty_constructor',\n",
       " '_exception',\n",
       " '_format_resource_name',\n",
       " '_format_resource_name_method',\n",
       " '_gca_resource',\n",
       " '_generate_display_name',\n",
       " '_get_and_validate_project_location',\n",
       " '_get_bq_schema_field_names_recursively',\n",
       " '_get_gca_resource',\n",
       " '_getter_method',\n",
       " '_import',\n",
       " '_import_and_wait',\n",
       " '_instantiate_client',\n",
       " '_latest_future',\n",
       " '_list',\n",
       " '_list_method',\n",
       " '_list_with_local_order',\n",
       " '_parse_resource_name',\n",
       " '_parse_resource_name_method',\n",
       " '_raise_future_exception',\n",
       " '_resource_id_validator',\n",
       " '_resource_is_available',\n",
       " '_resource_noun',\n",
       " '_retrieve_bq_source_columns',\n",
       " '_retrieve_gcs_source_columns',\n",
       " '_submit',\n",
       " '_supported_metadata_schema_uris',\n",
       " '_sync_gca_resource',\n",
       " '_sync_object_with_future_result',\n",
       " '_validate_metadata_schema_uri',\n",
       " '_wait_for_resource_creation',\n",
       " 'api_client',\n",
       " 'client_class',\n",
       " 'column_names',\n",
       " 'create',\n",
       " 'create_time',\n",
       " 'credentials',\n",
       " 'delete',\n",
       " 'display_name',\n",
       " 'encryption_spec',\n",
       " 'export_data',\n",
       " 'gca_resource',\n",
       " 'import_data',\n",
       " 'labels',\n",
       " 'list',\n",
       " 'location',\n",
       " 'metadata_schema_uri',\n",
       " 'name',\n",
       " 'project',\n",
       " 'resource_name',\n",
       " 'to_dict',\n",
       " 'update',\n",
       " 'update_time',\n",
       " 'wait']"
      ]
     },
     "execution_count": 13,
     "metadata": {},
     "output_type": "execute_result"
    }
   ],
   "source": [
    "dir(dataset)"
   ]
  },
  {
   "cell_type": "code",
   "execution_count": 39,
   "id": "bcdfcd4e-80f3-4688-9237-fa127bd42729",
   "metadata": {},
   "outputs": [
    {
     "data": {
      "text/plain": [
       "'bq://svc-demo-vertex.colvin.training_data_automl'"
      ]
     },
     "execution_count": 39,
     "metadata": {},
     "output_type": "execute_result"
    }
   ],
   "source": [
    "dataset.gca_resource.metadata['inputConfig']['bigquerySource']['uri']"
   ]
  },
  {
   "cell_type": "code",
   "execution_count": null,
   "id": "dc3a8abd-c100-4db4-83bf-fc60044405f0",
   "metadata": {},
   "outputs": [],
   "source": []
  }
 ],
 "metadata": {
  "environment": {
   "kernel": "myenv",
   "name": "tf2-gpu.2-8.m90",
   "type": "gcloud",
   "uri": "gcr.io/deeplearning-platform-release/tf2-gpu.2-8:m90"
  },
  "kernelspec": {
   "display_name": "myenv",
   "language": "python",
   "name": "myenv"
  },
  "language_info": {
   "codemirror_mode": {
    "name": "ipython",
    "version": 3
   },
   "file_extension": ".py",
   "mimetype": "text/x-python",
   "name": "python",
   "nbconvert_exporter": "python",
   "pygments_lexer": "ipython3",
   "version": "3.8.13"
  }
 },
 "nbformat": 4,
 "nbformat_minor": 5
}
